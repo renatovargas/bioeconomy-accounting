{
 "cells": [
  {
   "cell_type": "markdown",
   "metadata": {},
   "source": [
    "# Bioeconomy Accounting Methods and Applications for Latin America\n",
    "\n",
    "Renato Vargas (CHW, S.A.)  \n",
    "Adrián Rodríguez (Economic Commission for Latin America and The Caribbean)  \n",
    "Andrés Mondaini (Economic Commission for Latin America and The Caribbean)\n",
    "\n",
    "This paper describes a practical methodology to estimate bioeconomy macroeconomic accounts, based on an extension of the System of National Accounts (SNA), particularly, a reordering of classifications within the Supply and Use tables of this system. In contrast to similar studies, we propose not to classify economic activities as belonging to the bioeconomy or not *a priori*.\n",
    "\n",
    "## Section\n",
    "\n",
    "This is a simple placeholder for the manuscript’s main document \\[@knuth84\\]."
   ],
   "id": "f0439f3f-09f5-4ec4-b666-d0a06804fc3d"
  },
  {
   "cell_type": "code",
   "execution_count": null,
   "metadata": {},
   "outputs": [
    {
     "output_type": "stream",
     "name": "stdout",
     "text": [
      "[1] 2"
     ]
    }
   ],
   "source": [
    "1 + 1"
   ],
   "id": "75eeb3fc-74fe-4ea6-b255-35c4181fa4d5"
  }
 ],
 "nbformat": 4,
 "nbformat_minor": 5,
 "metadata": {}
}
