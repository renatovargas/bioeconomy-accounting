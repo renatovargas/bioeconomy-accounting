{
 "cells": [
  {
   "cell_type": "markdown",
   "metadata": {},
   "source": [
    "# Bioeconomy Accounting Methods and Applications for Latin America\n",
    "\n",
    "Renato Vargas (CHW, S.A.)  \n",
    "Adrián Rodríguez (Economic Commission for Latin America and The Caribbean)  \n",
    "Andrés Mondaini (Economic Commission for Latin America and The Caribbean)\n",
    "\n",
    "This paper describes a practical methodology to estimate bioeconomy macroeconomic accounts, based on an extension of the System of National Accounts (SNA), particularly, a reordering of classifications within the Supply and Use tables of this system. In contrast to similar studies, we propose not to classify economic activities as belonging to the bioeconomy or not *a priori*.\n",
    "\n",
    "## Section\n",
    "\n",
    "This is a simple placeholder for the manuscript’s main document ([Knuth 1984](#ref-knuth84))."
   ],
   "id": "749d22f1-4fd5-4c29-92aa-e6853c56c2bf"
  },
  {
   "cell_type": "code",
   "execution_count": null,
   "metadata": {},
   "outputs": [
    {
     "output_type": "stream",
     "name": "stdout",
     "text": [
      "[1] 2"
     ]
    }
   ],
   "source": [
    "1 + 1"
   ],
   "id": "45c0215f-e014-40da-9ac9-5502d187822d"
  },
  {
   "cell_type": "markdown",
   "metadata": {},
   "source": [
    "Knuth, Donald E. 1984. “Literate Programming.” *Comput. J.* 27 (2): 97–111. <https://doi.org/10.1093/comjnl/27.2.97>."
   ],
   "id": "a0348f12-829c-45f8-b4aa-58361230fd98"
  }
 ],
 "nbformat": 4,
 "nbformat_minor": 5,
 "metadata": {}
}
