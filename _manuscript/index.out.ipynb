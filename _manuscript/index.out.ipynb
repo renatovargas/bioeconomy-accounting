{
 "cells": [
  {
   "cell_type": "markdown",
   "metadata": {},
   "source": [
    "# Bioeconomy Accounting: A Proposed Method and Application to 13 Latin\n",
    "\n",
    "American Countries\n",
    "\n",
    "Renato Vargas (CHW, S.A.)  \n",
    "Andrés Mondaini (Economic Commission for Latin America and The Caribbean)  \n",
    "Adrián Rodríguez (Economic Commission for Latin America and The Caribbean)  \n",
    "Irene Alvarado (Banco Central de Costa Rica)  \n",
    "Mónica Rodríguez (Banco Central de Costa Rica)\n",
    "\n",
    "This paper describes a practical methodology to estimate bioeconomy macroeconomic accounts, based on an extension of the System of National Accounts (SNA), particularly, a reordering of classifications within the Supply and Use tables of this system. In contrast to similar studies, we suggest that an *a priori* classification of economic activities as bioeconomic underestimates the real contribution of the bioeconomy. Instead we suggest limiting to classifying products as bioeconomic or not and then evaluating the bioeconomic content of intermediate consumption. We provide a detailed example of these ideas for Costa Rica and estimates for 13 Latin American economies.\n",
    "\n",
    "## Section\n",
    "\n",
    "This is a simple placeholder for the manuscript’s main document ([Knuth 1984](#ref-knuth84))."
   ],
   "id": "07e31114-69c3-4cfb-a5c9-f27822c9d070"
  },
  {
   "cell_type": "code",
   "execution_count": null,
   "metadata": {},
   "outputs": [
    {
     "output_type": "stream",
     "name": "stdout",
     "text": [
      "[1] 2"
     ]
    }
   ],
   "source": [
    "1 + 1"
   ],
   "id": "99770574-9851-4957-ba27-96146d5f21f9"
  },
  {
   "cell_type": "markdown",
   "metadata": {},
   "source": [
    "Knuth, Donald E. 1984. “Literate Programming.” *Comput. J.* 27 (2): 97–111. <https://doi.org/10.1093/comjnl/27.2.97>."
   ],
   "id": "6f573881-aebb-424c-801e-542118da826a"
  }
 ],
 "nbformat": 4,
 "nbformat_minor": 5,
 "metadata": {}
}
